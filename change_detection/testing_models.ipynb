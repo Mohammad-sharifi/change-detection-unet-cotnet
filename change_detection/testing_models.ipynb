{
 "cells": [
  {
   "cell_type": "code",
   "execution_count": 1,
   "id": "e5e35f31",
   "metadata": {},
   "outputs": [],
   "source": [
    "import numpy as np\n",
    "from models.layers import layers\n",
    "from models.layers.initializers import he_normalizer"
   ]
  },
  {
   "cell_type": "code",
   "execution_count": 40,
   "id": "38ae7de8",
   "metadata": {},
   "outputs": [],
   "source": [
    "import datetime\n",
    "import os\n",
    "import numpy as np\n",
    "import h5py\n",
    "import matplotlib.pyplot as plt\n",
    "import cv2\n",
    "import random\n",
    "#import skimage.io as io\n",
    "#import skimage.transform as trans\n",
    "\n",
    "import tensorflow as tf\n",
    "import logging\n",
    "from tensorflow.keras.layers import  Input, Conv2D, MaxPooling2D,Dropout,UpSampling2D,concatenate,BatchNormalization,Activation,add\n",
    "from tensorflow.keras.models import Model, load_model\n",
    "from sklearn.model_selection import train_test_split\n",
    "from tensorflow.keras.utils import to_categorical\n",
    "from tensorflow.keras.preprocessing.image import ImageDataGenerator\n",
    "\n",
    "import glob\n",
    "import pickle\n",
    "# In[1]:\n",
    "import tensorflow.keras as keras\n",
    "import tensorflow.keras.backend as K"
   ]
  },
  {
   "cell_type": "code",
   "execution_count": 3,
   "id": "15b896eb",
   "metadata": {},
   "outputs": [],
   "source": [
    "import torch\n",
    "import torch.nn as nn"
   ]
  },
  {
   "cell_type": "code",
   "execution_count": 4,
   "id": "c5bfe534",
   "metadata": {},
   "outputs": [],
   "source": [
    "classes = 2\n",
    "channels = 6\n",
    "# x = np.random.randn(10, 6, 128, 128)\n",
    "x = np.random.randn(1, 1, 3, 3)\n",
    "x = (x - x.min(axis=3, keepdims=True)) / (x.max(axis=3, keepdims=True) - x.min(axis=3, keepdims=True))"
   ]
  },
  {
   "cell_type": "code",
   "execution_count": 5,
   "id": "781a5f84",
   "metadata": {},
   "outputs": [],
   "source": [
    "torch_conv = nn.Conv2d(1, 1, 3, padding=\"same\")\n",
    "tf_conv = tf.keras.layers.Conv2D(1, 3, activation=None, padding=\"same\")"
   ]
  },
  {
   "cell_type": "code",
   "execution_count": 6,
   "id": "b85dff3f",
   "metadata": {},
   "outputs": [
    {
     "name": "stderr",
     "output_type": "stream",
     "text": [
      "2023-06-20 02:19:59.353926: E tensorflow/stream_executor/cuda/cuda_driver.cc:265] failed call to cuInit: CUDA_ERROR_UNKNOWN: unknown error\n",
      "2023-06-20 02:19:59.353950: I tensorflow/stream_executor/cuda/cuda_diagnostics.cc:169] retrieving CUDA diagnostic information for host: tuf\n",
      "2023-06-20 02:19:59.353957: I tensorflow/stream_executor/cuda/cuda_diagnostics.cc:176] hostname: tuf\n",
      "2023-06-20 02:19:59.353987: I tensorflow/stream_executor/cuda/cuda_diagnostics.cc:200] libcuda reported version is: 510.108.3\n",
      "2023-06-20 02:19:59.354001: I tensorflow/stream_executor/cuda/cuda_diagnostics.cc:204] kernel reported version is: 510.108.3\n",
      "2023-06-20 02:19:59.354004: I tensorflow/stream_executor/cuda/cuda_diagnostics.cc:310] kernel version seems to match DSO: 510.108.3\n",
      "2023-06-20 02:19:59.354173: I tensorflow/core/platform/cpu_feature_guard.cc:193] This TensorFlow binary is optimized with oneAPI Deep Neural Network Library (oneDNN) to use the following CPU instructions in performance-critical operations:  AVX2 FMA\n",
      "To enable them in other operations, rebuild TensorFlow with the appropriate compiler flags.\n"
     ]
    }
   ],
   "source": [
    "tf_x = tf.convert_to_tensor(x.transpose(0, 2, 3, 1))\n",
    "torch_x = torch.Tensor(x)"
   ]
  },
  {
   "cell_type": "code",
   "execution_count": 7,
   "id": "3e70c692",
   "metadata": {},
   "outputs": [],
   "source": [
    "torch_y = torch_conv(torch_x)\n",
    "tf_y = tf_conv(tf_x)"
   ]
  },
  {
   "cell_type": "code",
   "execution_count": 8,
   "id": "87c6aff2",
   "metadata": {},
   "outputs": [
    {
     "data": {
      "text/plain": [
       "tensor([[[[-0.2907, -0.3869, -0.6376],\n",
       "          [-0.0041, -0.2747, -0.7813],\n",
       "          [ 0.3725, -0.3935, -0.8194]]]], grad_fn=<ConvolutionBackward0>)"
      ]
     },
     "execution_count": 8,
     "metadata": {},
     "output_type": "execute_result"
    }
   ],
   "source": [
    "torch_y"
   ]
  },
  {
   "cell_type": "code",
   "execution_count": 9,
   "id": "be5a2995",
   "metadata": {},
   "outputs": [
    {
     "data": {
      "text/plain": [
       "<tf.Tensor: shape=(1, 3, 3, 1), dtype=float32, numpy=\n",
       "array([[[[-0.05410799],\n",
       "         [ 0.08171681],\n",
       "         [ 0.38680807]],\n",
       "\n",
       "        [[ 0.73151803],\n",
       "         [ 0.8457    ],\n",
       "         [ 0.7214397 ]],\n",
       "\n",
       "        [[ 1.1782757 ],\n",
       "         [ 0.92955893],\n",
       "         [ 0.694498  ]]]], dtype=float32)>"
      ]
     },
     "execution_count": 9,
     "metadata": {},
     "output_type": "execute_result"
    }
   ],
   "source": [
    "tf_y"
   ]
  },
  {
   "cell_type": "code",
   "execution_count": 10,
   "id": "352c90ec",
   "metadata": {},
   "outputs": [
    {
     "data": {
      "text/plain": [
       "(torch.Size([1, 1, 3, 3]), TensorShape([1, 3, 3, 1]))"
      ]
     },
     "execution_count": 10,
     "metadata": {},
     "output_type": "execute_result"
    }
   ],
   "source": [
    "torch_y.shape, tf_y.shape"
   ]
  },
  {
   "cell_type": "code",
   "execution_count": 11,
   "id": "d1090ee2",
   "metadata": {},
   "outputs": [
    {
     "data": {
      "text/plain": [
       "<function keras.activations.linear(x)>"
      ]
     },
     "execution_count": 11,
     "metadata": {},
     "output_type": "execute_result"
    }
   ],
   "source": [
    "tf_conv.activation"
   ]
  },
  {
   "cell_type": "code",
   "execution_count": 12,
   "id": "79a00344",
   "metadata": {},
   "outputs": [],
   "source": [
    "x = np.random.randn(6, 3, 128, 128)\n",
    "x = (x - x.min(axis=3, keepdims=True)) / (x.max(axis=3, keepdims=True) - x.min(axis=3, keepdims=True))"
   ]
  },
  {
   "cell_type": "code",
   "execution_count": 43,
   "id": "c5468fc6",
   "metadata": {},
   "outputs": [],
   "source": [
    "seq = nn.Sequential(\n",
    "    layers.CustomConv2d(3, 64, 5, (1,1), 2, 2),\n",
    "    layers.CustomConv2d(64, 128, 5, (1,1), 2, 2),\n",
    "    layers.CustomConv2d(128, 256, 5, (1,1), 2, 2),\n",
    "    layers.CustomConv2d(256, 512, 5, (1,1), 2, 2, dropout=0.5),\n",
    ")"
   ]
  },
  {
   "cell_type": "code",
   "execution_count": 44,
   "id": "f8cbd28d",
   "metadata": {},
   "outputs": [
    {
     "data": {
      "text/plain": [
       "(torch.Size([6, 3, 128, 128]), TensorShape([6, 128, 128, 3]))"
      ]
     },
     "execution_count": 44,
     "metadata": {},
     "output_type": "execute_result"
    }
   ],
   "source": [
    "torch_x = torch.Tensor(x)\n",
    "tf_x = tf.convert_to_tensor(x)\n",
    "tf_x = tf.transpose(tf_x, perm=[0, 2, 3, 1])\n",
    "torch_x.shape, tf_x.shape"
   ]
  },
  {
   "cell_type": "code",
   "execution_count": 45,
   "id": "7bcb3716",
   "metadata": {},
   "outputs": [],
   "source": [
    "torch_y = seq(torch_x)"
   ]
  },
  {
   "cell_type": "code",
   "execution_count": 46,
   "id": "7eabf55f",
   "metadata": {},
   "outputs": [],
   "source": [
    "conv1_1_L = Conv2D(64, 5, strides=(1, 1), padding='same', use_bias=False, kernel_initializer='he_normal')(tf_x)\n",
    "conv1_1_L = BatchNormalization(axis=3)(conv1_1_L)\n",
    "conv1_1_L = Activation('relu')(conv1_1_L)\n",
    "conv1_1_L = MaxPooling2D(pool_size=(2, 2), strides=(2, 2), padding='same')(conv1_1_L)\n",
    "#drop1_2_L = Dropout(0.25)(conv1_1_L)\n",
    "\n",
    "# conv2_x  input size:64\n",
    "conv2_1_L = Conv2D(128, 5, strides=(1, 1), padding='same', use_bias=False, kernel_initializer='he_normal')(conv1_1_L)\n",
    "conv2_1_L = BatchNormalization(axis=3)(conv2_1_L)\n",
    "conv2_1_L = Activation('relu')(conv2_1_L)\n",
    "conv2_1_L = MaxPooling2D(pool_size=(2, 2), strides=(2, 2), padding='same')(conv2_1_L)\n",
    "#drop2_2_L = Dropout(0.5)(conv2_1_L)\n",
    "\n",
    "# conv3_x  input size:32\n",
    "conv3_1_L = Conv2D(256, 5, strides=(1, 1), padding='same', use_bias=False, kernel_initializer='he_normal')(conv2_1_L)\n",
    "conv3_1_L = BatchNormalization(axis=3)(conv3_1_L)\n",
    "conv3_1_L = Activation('relu')(conv3_1_L)\n",
    "conv3_1_L = MaxPooling2D(pool_size=(2, 2), strides=(2, 2), padding='same')(conv3_1_L)\n",
    "#drop3_2_L = Dropout(0.5)(conv3_1_L)\n",
    "# conv3_x  input size:16\n",
    "conv4_1_L = Conv2D(512, 5, strides=(1, 1), padding='same', use_bias=False, kernel_initializer='he_normal')(conv3_1_L)\n",
    "conv4_1_L = BatchNormalization(axis=3)(conv4_1_L)\n",
    "conv4_1_L = Activation('relu')(conv4_1_L)\n",
    "conv4_1_L = MaxPooling2D(pool_size=(2, 2), strides=(2, 2), padding='same')(conv4_1_L)\n",
    "drop4_2_L = Dropout(0.5)(conv4_1_L)\n"
   ]
  },
  {
   "cell_type": "code",
   "execution_count": 48,
   "id": "4954318d",
   "metadata": {},
   "outputs": [
    {
     "data": {
      "text/plain": [
       "(TensorShape([6, 8, 8, 512]), torch.Size([6, 512, 8, 8]))"
      ]
     },
     "execution_count": 48,
     "metadata": {},
     "output_type": "execute_result"
    }
   ],
   "source": [
    "drop4_2_L.shape, torch_y.shape"
   ]
  },
  {
   "cell_type": "code",
   "execution_count": 49,
   "id": "a7910097",
   "metadata": {},
   "outputs": [],
   "source": [
    "c1=32\n",
    "c1=int(drop4_2_L.shape[3]/8)\n",
    "c=4\n",
    "c=drop4_2_L.shape[2]\n",
    "d=256\n",
    "d=drop4_2_L.shape[3]\n",
    "fa=Conv2D(c1,1, activation = 'relu', padding = 'same', kernel_initializer = 'he_normal')(drop4_2_L)\n",
    "fb=Conv2D(c1,1, activation = 'relu', padding = 'same', kernel_initializer = 'he_normal')(drop4_2_L)\n",
    "fc=Conv2D(d,1, activation = 'relu', padding = 'same', kernel_initializer = 'he_normal')(drop4_2_L)"
   ]
  },
  {
   "cell_type": "code",
   "execution_count": 53,
   "id": "609387cb",
   "metadata": {},
   "outputs": [
    {
     "data": {
      "text/plain": [
       "(64,\n",
       " 8,\n",
       " 512,\n",
       " TensorShape([6, 8, 8, 512]),\n",
       " TensorShape([6, 8, 8, 64]),\n",
       " TensorShape([6, 8, 8, 64]),\n",
       " TensorShape([6, 8, 8, 512]))"
      ]
     },
     "execution_count": 53,
     "metadata": {},
     "output_type": "execute_result"
    }
   ],
   "source": [
    "c1, c, d, drop4_2_L.shape, fa.shape, fb.shape, fc.shape"
   ]
  },
  {
   "cell_type": "code",
   "execution_count": 58,
   "id": "55046b70",
   "metadata": {},
   "outputs": [
    {
     "data": {
      "text/plain": [
       "(torch.Size([6, 512, 8, 8]), 64, 8, 512)"
      ]
     },
     "execution_count": 58,
     "metadata": {},
     "output_type": "execute_result"
    }
   ],
   "source": [
    "torch_y.size(), torch_y.size(1) // 8, torch_y.size(3), torch_y.size(1)"
   ]
  },
  {
   "cell_type": "code",
   "execution_count": 59,
   "id": "a234943a",
   "metadata": {},
   "outputs": [],
   "source": [
    "fa1=tf.reshape(fa,[-1,c*c,c1])\n",
    "fb1=tf.reshape(fb,[-1,c*c,c1])"
   ]
  },
  {
   "cell_type": "code",
   "execution_count": 60,
   "id": "cc35719e",
   "metadata": {},
   "outputs": [
    {
     "data": {
      "text/plain": [
       "(TensorShape([6, 64, 64]), TensorShape([6, 64, 64]))"
      ]
     },
     "execution_count": 60,
     "metadata": {},
     "output_type": "execute_result"
    }
   ],
   "source": [
    "fa1.shape, fb1.shape"
   ]
  },
  {
   "cell_type": "code",
   "execution_count": 62,
   "id": "20dd6973",
   "metadata": {},
   "outputs": [
    {
     "data": {
      "text/plain": [
       "torch.Size([196608])"
      ]
     },
     "execution_count": 62,
     "metadata": {},
     "output_type": "execute_result"
    }
   ],
   "source": [
    "torch_y.view(-1, c1).shape"
   ]
  },
  {
   "cell_type": "markdown",
   "id": "14286e40",
   "metadata": {},
   "source": [
    "# Testing the cotlayer network"
   ]
  },
  {
   "cell_type": "code",
   "execution_count": null,
   "id": "4120af7b",
   "metadata": {},
   "outputs": [],
   "source": [
    "# loading the dataset\n"
   ]
  }
 ],
 "metadata": {
  "kernelspec": {
   "display_name": "Python 3 (ipykernel)",
   "language": "python",
   "name": "python3"
  },
  "language_info": {
   "codemirror_mode": {
    "name": "ipython",
    "version": 3
   },
   "file_extension": ".py",
   "mimetype": "text/x-python",
   "name": "python",
   "nbconvert_exporter": "python",
   "pygments_lexer": "ipython3",
   "version": "3.10.6"
  }
 },
 "nbformat": 4,
 "nbformat_minor": 5
}
